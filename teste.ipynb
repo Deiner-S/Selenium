{
 "cells": [
  {
   "cell_type": "code",
   "execution_count": 3,
   "id": "c8c5251e",
   "metadata": {},
   "outputs": [],
   "source": [
    "import pandas as pd"
   ]
  },
  {
   "cell_type": "code",
   "execution_count": 4,
   "id": "644371a5",
   "metadata": {},
   "outputs": [
    {
     "data": {
      "text/html": [
       "<div>\n",
       "<style scoped>\n",
       "    .dataframe tbody tr th:only-of-type {\n",
       "        vertical-align: middle;\n",
       "    }\n",
       "\n",
       "    .dataframe tbody tr th {\n",
       "        vertical-align: top;\n",
       "    }\n",
       "\n",
       "    .dataframe thead th {\n",
       "        text-align: right;\n",
       "    }\n",
       "</style>\n",
       "<table border=\"1\" class=\"dataframe\">\n",
       "  <thead>\n",
       "    <tr style=\"text-align: right;\">\n",
       "      <th></th>\n",
       "      <th>Unnamed: 0</th>\n",
       "      <th>TITLE</th>\n",
       "      <th>AUTHOR</th>\n",
       "      <th>ISBN</th>\n",
       "      <th>THEME1</th>\n",
       "      <th>THEME2</th>\n",
       "      <th>THEME3</th>\n",
       "      <th>PUBLISHER</th>\n",
       "      <th>BOOK_YEAR</th>\n",
       "      <th>BOOK_PAGE_COUT</th>\n",
       "    </tr>\n",
       "  </thead>\n",
       "  <tbody>\n",
       "    <tr>\n",
       "      <th>0</th>\n",
       "      <td>0</td>\n",
       "      <td>A clara cor da noite escura</td>\n",
       "      <td>Carlos Rodrigues Brandão</td>\n",
       "      <td>ISBN: 9788570782113</td>\n",
       "      <td>Social conditions</td>\n",
       "      <td>Blacks</td>\n",
       "      <td>Black people</td>\n",
       "      <td>Editora: Editora da UCG &amp; EDFU</td>\n",
       "      <td>Ano: 2009</td>\n",
       "      <td>215 páginas</td>\n",
       "    </tr>\n",
       "    <tr>\n",
       "      <th>1</th>\n",
       "      <td>1</td>\n",
       "      <td>A expressão da anterioridade temporal em espanhol</td>\n",
       "      <td>Leandro Silveira de Araujo</td>\n",
       "      <td>ISBN: 9786588055021</td>\n",
       "      <td>Língua espanhola</td>\n",
       "      <td>Sociolinguística</td>\n",
       "      <td>espanhol</td>\n",
       "      <td>Editora: FUNDAÇÃO DE APOIO UNIVERSITARIO - FAU</td>\n",
       "      <td>Ano: 2023</td>\n",
       "      <td>240 páginas</td>\n",
       "    </tr>\n",
       "    <tr>\n",
       "      <th>2</th>\n",
       "      <td>2</td>\n",
       "      <td>A igreja como poder eclesiástico e civil em Th...</td>\n",
       "      <td>Wagner de Mello Elias</td>\n",
       "      <td>ISBN: 9786588055038</td>\n",
       "      <td>Filosofia e disciplinas relacionadas</td>\n",
       "      <td>Thomas</td>\n",
       "      <td>Hobbes</td>\n",
       "      <td>Editora: FUNDAÇÃO DE APOIO UNIVERSITARIO - FAU</td>\n",
       "      <td>Ano: 2023</td>\n",
       "      <td>208 páginas</td>\n",
       "    </tr>\n",
       "    <tr>\n",
       "      <th>3</th>\n",
       "      <td>3</td>\n",
       "      <td>A noção de alma na Suma de Teologia de Tomás d...</td>\n",
       "      <td>Anselmo Tadeu de Ferreira</td>\n",
       "      <td>ISBN: 9786558240228</td>\n",
       "      <td>Filosofia e disciplinas relacionadas</td>\n",
       "      <td>filosofia</td>\n",
       "      <td>medieval</td>\n",
       "      <td>Editora: Editora da Universidade Federal de Ub...</td>\n",
       "      <td>Ano: 2023</td>\n",
       "      <td>152 páginas</td>\n",
       "    </tr>\n",
       "    <tr>\n",
       "      <th>4</th>\n",
       "      <td>4</td>\n",
       "      <td>Discussões Tusculanas</td>\n",
       "      <td>BRUNO FREGNI BASSETTO</td>\n",
       "      <td>ISBN: 9788570783080</td>\n",
       "      <td>Filosofia e disciplinas relacionadas</td>\n",
       "      <td>filosofia</td>\n",
       "      <td>estoica</td>\n",
       "      <td>Editora: Editora da Universidade Federal de Ub...</td>\n",
       "      <td>Ano: 2014</td>\n",
       "      <td>528 páginas</td>\n",
       "    </tr>\n",
       "  </tbody>\n",
       "</table>\n",
       "</div>"
      ],
      "text/plain": [
       "   Unnamed: 0                                              TITLE  \\\n",
       "0           0                        A clara cor da noite escura   \n",
       "1           1  A expressão da anterioridade temporal em espanhol   \n",
       "2           2  A igreja como poder eclesiástico e civil em Th...   \n",
       "3           3  A noção de alma na Suma de Teologia de Tomás d...   \n",
       "4           4                              Discussões Tusculanas   \n",
       "\n",
       "                       AUTHOR                 ISBN  \\\n",
       "0    Carlos Rodrigues Brandão  ISBN: 9788570782113   \n",
       "1  Leandro Silveira de Araujo  ISBN: 9786588055021   \n",
       "2       Wagner de Mello Elias  ISBN: 9786588055038   \n",
       "3   Anselmo Tadeu de Ferreira  ISBN: 9786558240228   \n",
       "4       BRUNO FREGNI BASSETTO  ISBN: 9788570783080   \n",
       "\n",
       "                                 THEME1            THEME2        THEME3  \\\n",
       "0                     Social conditions            Blacks  Black people   \n",
       "1                      Língua espanhola  Sociolinguística      espanhol   \n",
       "2  Filosofia e disciplinas relacionadas            Thomas        Hobbes   \n",
       "3  Filosofia e disciplinas relacionadas         filosofia      medieval   \n",
       "4  Filosofia e disciplinas relacionadas         filosofia       estoica   \n",
       "\n",
       "                                           PUBLISHER  BOOK_YEAR BOOK_PAGE_COUT  \n",
       "0                     Editora: Editora da UCG & EDFU  Ano: 2009    215 páginas  \n",
       "1     Editora: FUNDAÇÃO DE APOIO UNIVERSITARIO - FAU  Ano: 2023    240 páginas  \n",
       "2     Editora: FUNDAÇÃO DE APOIO UNIVERSITARIO - FAU  Ano: 2023    208 páginas  \n",
       "3  Editora: Editora da Universidade Federal de Ub...  Ano: 2023    152 páginas  \n",
       "4  Editora: Editora da Universidade Federal de Ub...  Ano: 2014    528 páginas  "
      ]
     },
     "execution_count": 4,
     "metadata": {},
     "output_type": "execute_result"
    }
   ],
   "source": [
    "df = pd.read_csv(\"C:/Users/deiner.souza/Documents/Selenium/books_metadata.csv\")\n",
    "df.head()"
   ]
  },
  {
   "cell_type": "code",
   "execution_count": 5,
   "id": "e66676c4",
   "metadata": {},
   "outputs": [
    {
     "data": {
      "text/plain": [
       "(33, 10)"
      ]
     },
     "execution_count": 5,
     "metadata": {},
     "output_type": "execute_result"
    }
   ],
   "source": [
    "df.shape"
   ]
  },
  {
   "cell_type": "code",
   "execution_count": null,
   "id": "87becedd",
   "metadata": {},
   "outputs": [],
   "source": []
  }
 ],
 "metadata": {
  "kernelspec": {
   "display_name": "base",
   "language": "python",
   "name": "python3"
  },
  "language_info": {
   "codemirror_mode": {
    "name": "ipython",
    "version": 3
   },
   "file_extension": ".py",
   "mimetype": "text/x-python",
   "name": "python",
   "nbconvert_exporter": "python",
   "pygments_lexer": "ipython3",
   "version": "3.13.5"
  }
 },
 "nbformat": 4,
 "nbformat_minor": 5
}
